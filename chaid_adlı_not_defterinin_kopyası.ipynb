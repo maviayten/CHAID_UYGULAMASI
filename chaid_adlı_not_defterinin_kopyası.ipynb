{
  "nbformat": 4,
  "nbformat_minor": 0,
  "metadata": {
    "colab": {
      "provenance": [],
      "authorship_tag": "ABX9TyPl6B1PuqnLYJZG2VcrjHct",
      "include_colab_link": true
    },
    "kernelspec": {
      "name": "python3",
      "display_name": "Python 3"
    },
    "language_info": {
      "name": "python"
    }
  },
  "cells": [
    {
      "cell_type": "markdown",
      "metadata": {
        "id": "view-in-github",
        "colab_type": "text"
      },
      "source": [
        "<a href=\"https://colab.research.google.com/github/maviayten/CHAID_UYGULAMASI/blob/main/chaid_adl%C4%B1_not_defterinin_kopyas%C4%B1.ipynb\" target=\"_parent\"><img src=\"https://colab.research.google.com/assets/colab-badge.svg\" alt=\"Open In Colab\"/></a>"
      ]
    },
    {
      "cell_type": "code",
      "execution_count": null,
      "metadata": {
        "id": "ML_Qdla0Vzpp"
      },
      "outputs": [],
      "source": [
        "import pandas as pd\n",
        "import numpy as np\n",
        "from sklearn.model_selection import train_test_split\n",
        "from scipy.stats import chi2_contingency\n",
        "from sklearn.metrics import accuracy_score\n",
        "\n",
        "# Örnek veri seti (Iris)\n",
        "from sklearn.datasets import load_iris\n",
        "data = load_iris()\n",
        "df = pd.DataFrame(data.data, columns=data.feature_names)\n",
        "df['target'] = data.target\n",
        "\n",
        "# Sürekli verileri kategorik hale getirme (CHAID için gerekli)\n",
        "for col in df.columns[:-1]:  # Sadece özellik sütunlarını kategorik hale getiriyoruz\n",
        "    df[col] = pd.cut(df[col], bins=3, labels=False)\n",
        "\n",
        "# Eğitim ve test verisi oluşturma\n",
        "X = df.drop('target', axis=1)\n",
        "y = df['target']\n",
        "X_train, X_test, y_train, y_test = train_test_split(X, y, test_size=0.2, random_state=42)\n"
      ]
    },
    {
      "cell_type": "code",
      "source": [
        "# CHAID algoritması: Chi-square testiyle bölme\n",
        "def chaid_split(data, target_col, feature_col):\n",
        "    contingency_table = pd.crosstab(data[feature_col], data[target_col])\n",
        "    chi2, p_value, _, _ = chi2_contingency(contingency_table)\n",
        "    return chi2, p_value\n",
        "\n",
        "# CHAID Karar Ağacı Mantığı\n",
        "def chaid_tree(data, target_col, max_depth=3, min_p_value=0.05, depth=0):\n",
        "    if depth >= max_depth or len(data[target_col].unique()) == 1:\n",
        "        return {\"type\": \"leaf\", \"class\": data[target_col].mode()[0]}\n",
        "\n",
        "    best_feature = None\n",
        "    best_p_value = 1.0\n",
        "    for feature in data.drop(columns=[target_col]).columns:\n",
        "        _, p_value = chaid_split(data, target_col, feature)\n",
        "        if p_value < best_p_value:\n",
        "            best_p_value = p_value\n",
        "            best_feature = feature\n",
        "\n",
        "    if best_p_value > min_p_value:\n",
        "        return {\"type\": \"leaf\", \"class\": data[target_col].mode()[0]}\n",
        "\n",
        "    tree = {\"type\": \"node\", \"feature\": best_feature, \"branches\": {}}\n",
        "    for value in data[best_feature].unique():\n",
        "        subset = data[data[best_feature] == value]\n",
        "        tree[\"branches\"][value] = chaid_tree(subset, target_col, max_depth, min_p_value, depth + 1)\n",
        "\n",
        "    return tree\n",
        "\n",
        "# CHAID ağacını oluşturma\n",
        "tree = chaid_tree(pd.concat([X_train, y_train], axis=1), target_col='target')\n",
        "print(tree)\n"
      ],
      "metadata": {
        "colab": {
          "base_uri": "https://localhost:8080/"
        },
        "id": "nj-qROLQV6Ys",
        "outputId": "b0a54363-4ee0-40de-9f9d-2f79ded27949"
      },
      "execution_count": null,
      "outputs": [
        {
          "output_type": "stream",
          "name": "stdout",
          "text": [
            "{'type': 'node', 'feature': 'petal width (cm)', 'branches': {0: {'type': 'leaf', 'class': 0}, 1: {'type': 'node', 'feature': 'petal length (cm)', 'branches': {1: {'type': 'leaf', 'class': 1}, 2: {'type': 'leaf', 'class': 2}}}, 2: {'type': 'leaf', 'class': 2}}}\n"
          ]
        }
      ]
    },
    {
      "cell_type": "code",
      "source": [
        "# Hiperparametre optimizasyonu için örnek\n",
        "best_tree = None\n",
        "best_depth = None\n",
        "best_accuracy = 0\n",
        "\n",
        "for depth in range(1, 6):\n",
        "    tree = chaid_tree(pd.concat([X_train, y_train], axis=1), target_col='target', max_depth=depth)\n",
        "\n",
        "    # Test seti üzerinde değerlendirme (basitleştirilmiş tahmin)\n",
        "    def predict(tree, row):\n",
        "        if tree['type'] == 'leaf':\n",
        "            return tree['class']\n",
        "        return predict(tree['branches'][row[tree['feature']]], row)\n",
        "\n",
        "    y_pred = X_test.apply(lambda row: predict(tree, row), axis=1)\n",
        "    acc = accuracy_score(y_test, y_pred)\n",
        "\n",
        "    if acc > best_accuracy:\n",
        "        best_accuracy = acc\n",
        "        best_tree = tree\n",
        "        best_depth = depth\n",
        "\n",
        "print(f\"En iyi derinlik: {best_depth}, En iyi doğruluk: {best_accuracy:.2f}\")\n"
      ],
      "metadata": {
        "colab": {
          "base_uri": "https://localhost:8080/"
        },
        "id": "fbK5FcNiV-Nw",
        "outputId": "0eba55e5-b378-40c1-9ff7-925d3301c7a8"
      },
      "execution_count": null,
      "outputs": [
        {
          "output_type": "stream",
          "name": "stdout",
          "text": [
            "En iyi derinlik: 1, En iyi doğruluk: 1.00\n"
          ]
        }
      ]
    },
    {
      "cell_type": "code",
      "source": [
        "# CHAID ile özellik önemi\n",
        "feature_importances = {}\n",
        "for feature in X_train.columns:\n",
        "    chi2, p_value = chaid_split(pd.concat([X_train, y_train], axis=1), 'target', feature)\n",
        "    feature_importances[feature] = chi2\n",
        "\n",
        "# Özellikleri önem sırasına göre sıralama\n",
        "sorted_features = sorted(feature_importances.items(), key=lambda x: x[1], reverse=True)\n",
        "print(\"Özellik Önem Dereceleri:\")\n",
        "for feature, importance in sorted_features:\n",
        "    print(f\"{feature}: {importance:.2f}\")\n"
      ],
      "metadata": {
        "colab": {
          "base_uri": "https://localhost:8080/"
        },
        "id": "yPaMGIm-WCr6",
        "outputId": "03f8d4be-27c7-42c4-ca79-0fc601ecb324"
      },
      "execution_count": null,
      "outputs": [
        {
          "output_type": "stream",
          "name": "stdout",
          "text": [
            "Özellik Önem Dereceleri:\n",
            "petal width (cm): 207.48\n",
            "petal length (cm): 202.05\n",
            "sepal length (cm): 86.14\n",
            "sepal width (cm): 36.72\n"
          ]
        }
      ]
    },
    {
      "cell_type": "code",
      "source": [],
      "metadata": {
        "id": "Jtsz-ANBXT_c"
      },
      "execution_count": null,
      "outputs": []
    }
  ]
}